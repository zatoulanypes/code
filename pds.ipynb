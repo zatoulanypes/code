{
 "cells": [
  {
   "cell_type": "code",
   "execution_count": 127,
   "metadata": {},
   "outputs": [],
   "source": [
    "import pandas as pd"
   ]
  },
  {
   "cell_type": "code",
   "execution_count": 130,
   "metadata": {},
   "outputs": [],
   "source": [
    "with open('tweets.csv', 'r') as f:\n",
    "    df = pd.read_csv(f)"
   ]
  },
  {
   "cell_type": "code",
   "execution_count": 131,
   "metadata": {},
   "outputs": [],
   "source": [
    "df = df.dropna()"
   ]
  },
  {
   "cell_type": "code",
   "execution_count": 132,
   "metadata": {},
   "outputs": [],
   "source": [
    "# Задание 1"
   ]
  },
  {
   "cell_type": "code",
   "execution_count": 133,
   "metadata": {},
   "outputs": [
    {
     "data": {
      "text/html": [
       "<div>\n",
       "<style scoped>\n",
       "    .dataframe tbody tr th:only-of-type {\n",
       "        vertical-align: middle;\n",
       "    }\n",
       "\n",
       "    .dataframe tbody tr th {\n",
       "        vertical-align: top;\n",
       "    }\n",
       "\n",
       "    .dataframe thead th {\n",
       "        text-align: right;\n",
       "    }\n",
       "</style>\n",
       "<table border=\"1\" class=\"dataframe\">\n",
       "  <thead>\n",
       "    <tr style=\"text-align: right;\">\n",
       "      <th></th>\n",
       "      <th>tweet_content</th>\n",
       "    </tr>\n",
       "    <tr>\n",
       "      <th>author_name</th>\n",
       "      <th></th>\n",
       "    </tr>\n",
       "  </thead>\n",
       "  <tbody>\n",
       "    <tr>\n",
       "      <th>'(Robert Smith)</th>\n",
       "      <td>A lecture on the spirit of the computer, recen...</td>\n",
       "    </tr>\n",
       "    <tr>\n",
       "      <th>(((E. Glen Weyl)))</th>\n",
       "      <td>Couldn't be more excited to put out probably m...</td>\n",
       "    </tr>\n",
       "    <tr>\n",
       "      <th>(((Matthew Lewis)))</th>\n",
       "      <td>\"This could be huge.\"\\n\\nFolks, this *is* huge...</td>\n",
       "    </tr>\n",
       "    <tr>\n",
       "      <th>(◔_◔) ¯\\_(ツ)_/¯</th>\n",
       "      <td>@EdLatimore The problem is twofold:\\n\\n1. Suga...</td>\n",
       "    </tr>\n",
       "    <tr>\n",
       "      <th>1jack 🌱</th>\n",
       "      <td>Institutional money is going to move into this...</td>\n",
       "    </tr>\n",
       "    <tr>\n",
       "      <th>...</th>\n",
       "      <td>...</td>\n",
       "    </tr>\n",
       "    <tr>\n",
       "      <th>🔥 #Author Abraham Lopez</th>\n",
       "      <td>@EdLatimore Misery doesn’t just love company, ...</td>\n",
       "    </tr>\n",
       "    <tr>\n",
       "      <th>🔭🌃Jana Grcevich 📡🚀</th>\n",
       "      <td>Hey #ancientegypt twitter: I would love to kno...</td>\n",
       "    </tr>\n",
       "    <tr>\n",
       "      <th>🔱Master of Ecstasy🔱</th>\n",
       "      <td>I HAVE A NEW FAVORITE WORD:\\n\\nAPOTHEOSIS:\\n\\n...</td>\n",
       "    </tr>\n",
       "    <tr>\n",
       "      <th>🤙🏽 Bobby D 🤟🏽</th>\n",
       "      <td>Ben Roethlisberger and Mike Tomlin watching th...</td>\n",
       "    </tr>\n",
       "    <tr>\n",
       "      <th>🦉 Wisdomination 🦉</th>\n",
       "      <td>@naval American university is a peculiar mixtu...</td>\n",
       "    </tr>\n",
       "  </tbody>\n",
       "</table>\n",
       "<p>2170 rows × 1 columns</p>\n",
       "</div>"
      ],
      "text/plain": [
       "                                                             tweet_content\n",
       "author_name                                                               \n",
       "'(Robert Smith)          A lecture on the spirit of the computer, recen...\n",
       "(((E. Glen Weyl)))       Couldn't be more excited to put out probably m...\n",
       "(((Matthew Lewis)))      \"This could be huge.\"\\n\\nFolks, this *is* huge...\n",
       "(◔_◔) ¯\\_(ツ)_/¯          @EdLatimore The problem is twofold:\\n\\n1. Suga...\n",
       "1jack 🌱                  Institutional money is going to move into this...\n",
       "...                                                                    ...\n",
       "🔥 #Author Abraham Lopez  @EdLatimore Misery doesn’t just love company, ...\n",
       "🔭🌃Jana Grcevich 📡🚀       Hey #ancientegypt twitter: I would love to kno...\n",
       "🔱Master of Ecstasy🔱      I HAVE A NEW FAVORITE WORD:\\n\\nAPOTHEOSIS:\\n\\n...\n",
       "🤙🏽 Bobby D 🤟🏽            Ben Roethlisberger and Mike Tomlin watching th...\n",
       "🦉 Wisdomination 🦉        @naval American university is a peculiar mixtu...\n",
       "\n",
       "[2170 rows x 1 columns]"
      ]
     },
     "execution_count": 133,
     "metadata": {},
     "output_type": "execute_result"
    }
   ],
   "source": [
    "df[df['author_name'].apply(lambda x: len(x.split())) > 1] \\\n",
    "                    .groupby('author_name') \\\n",
    "                    .agg({'tweet_content': lambda x: min(x, key=len)})"
   ]
  },
  {
   "cell_type": "code",
   "execution_count": 134,
   "metadata": {},
   "outputs": [],
   "source": [
    "# Задание 2"
   ]
  },
  {
   "cell_type": "code",
   "execution_count": 135,
   "metadata": {},
   "outputs": [],
   "source": [
    "import emoji"
   ]
  },
  {
   "cell_type": "code",
   "execution_count": 136,
   "metadata": {},
   "outputs": [],
   "source": [
    "emoji_list = df['tweet_content'].apply(emoji.emoji_lis).sum()"
   ]
  },
  {
   "cell_type": "code",
   "execution_count": 137,
   "metadata": {},
   "outputs": [
    {
     "data": {
      "text/plain": [
       "✅    117\n",
       "😂    101\n",
       "👇    101\n",
       "🔥     52\n",
       "🙏     41\n",
       "🏻     41\n",
       "🏽     38\n",
       "👏     34\n",
       "❤     32\n",
       "🚨     30\n",
       "♂     30\n",
       "🇸     30\n",
       "🇺     29\n",
       "🏼     26\n",
       "👨     20\n",
       "⚫     19\n",
       "👩     18\n",
       "👍     18\n",
       "💯     17\n",
       "🏾     17\n",
       "🤔     17\n",
       "🆕     16\n",
       "🙌     16\n",
       "🚀     15\n",
       "💪     15\n",
       "♀     15\n",
       "👉     14\n",
       "⤵     13\n",
       "🤣     13\n",
       "🙄     13\n",
       "Name: emoji, dtype: int64"
      ]
     },
     "execution_count": 137,
     "metadata": {},
     "output_type": "execute_result"
    }
   ],
   "source": [
    "emoji_df = pd.DataFrame(emoji_list)\n",
    "emoji_df['emoji'].value_counts().head(30)"
   ]
  },
  {
   "cell_type": "code",
   "execution_count": 138,
   "metadata": {},
   "outputs": [],
   "source": [
    "# Задание 3"
   ]
  },
  {
   "cell_type": "code",
   "execution_count": 139,
   "metadata": {},
   "outputs": [],
   "source": [
    "import nltk\n",
    "from nltk.stem import WordNetLemmatizer"
   ]
  },
  {
   "cell_type": "code",
   "execution_count": 152,
   "metadata": {},
   "outputs": [],
   "source": [
    "with open('positive-words.txt', 'r', encoding='latin-1') as pos, \\\n",
    "     open('negative-words.txt', 'r', encoding='latin-1') as neg:\n",
    "    positive = set(pos.read().splitlines()[35:])\n",
    "    negative = set(neg.read().splitlines()[35:])\n",
    "\n",
    "lemmatizer = WordNetLemmatizer()"
   ]
  },
  {
   "cell_type": "code",
   "execution_count": 153,
   "metadata": {},
   "outputs": [],
   "source": [
    "def count_sentiment(tweet, positive=positive, negative=negative, lemmatizer=lemmatizer):\n",
    "    \n",
    "    word_list = nltk.word_tokenize(tweet)\n",
    "    score = 0\n",
    "    \n",
    "    for word in word_list:\n",
    "        word = lemmatizer.lemmatize(word)\n",
    "        if word in positive:\n",
    "            score += 1\n",
    "        elif word in negative:\n",
    "            score -= 1\n",
    "    \n",
    "    return score"
   ]
  },
  {
   "cell_type": "code",
   "execution_count": 154,
   "metadata": {},
   "outputs": [],
   "source": [
    "df['sentiment_score'] = df['tweet_content'].apply(count_sentiment)"
   ]
  },
  {
   "cell_type": "code",
   "execution_count": 155,
   "metadata": {},
   "outputs": [
    {
     "data": {
      "text/html": [
       "<div>\n",
       "<style scoped>\n",
       "    .dataframe tbody tr th:only-of-type {\n",
       "        vertical-align: middle;\n",
       "    }\n",
       "\n",
       "    .dataframe tbody tr th {\n",
       "        vertical-align: top;\n",
       "    }\n",
       "\n",
       "    .dataframe thead th {\n",
       "        text-align: right;\n",
       "    }\n",
       "</style>\n",
       "<table border=\"1\" class=\"dataframe\">\n",
       "  <thead>\n",
       "    <tr style=\"text-align: right;\">\n",
       "      <th></th>\n",
       "      <th>author_name</th>\n",
       "      <th>created_at</th>\n",
       "      <th>handle</th>\n",
       "      <th>likes</th>\n",
       "      <th>retweets</th>\n",
       "      <th>tweet_content</th>\n",
       "      <th>sentiment_score</th>\n",
       "    </tr>\n",
       "  </thead>\n",
       "  <tbody>\n",
       "    <tr>\n",
       "      <th>0</th>\n",
       "      <td>Naval</td>\n",
       "      <td>2019-08-07 22:36:56</td>\n",
       "      <td>naval</td>\n",
       "      <td>7566</td>\n",
       "      <td>1498</td>\n",
       "      <td>Unresolved thoughts, prematurely pushed out of...</td>\n",
       "      <td>-2</td>\n",
       "    </tr>\n",
       "    <tr>\n",
       "      <th>1</th>\n",
       "      <td>Naval</td>\n",
       "      <td>2019-08-07 05:00:38</td>\n",
       "      <td>naval</td>\n",
       "      <td>21886</td>\n",
       "      <td>5984</td>\n",
       "      <td>The modern mind is overstimulated and the mode...</td>\n",
       "      <td>2</td>\n",
       "    </tr>\n",
       "    <tr>\n",
       "      <th>2</th>\n",
       "      <td>Naval</td>\n",
       "      <td>2019-08-07 04:52:33</td>\n",
       "      <td>naval</td>\n",
       "      <td>6462</td>\n",
       "      <td>1266</td>\n",
       "      <td>The Lindy Effect for startups:\\n\\nThe longer y...</td>\n",
       "      <td>0</td>\n",
       "    </tr>\n",
       "    <tr>\n",
       "      <th>3</th>\n",
       "      <td>Naval</td>\n",
       "      <td>2019-08-06 08:35:26</td>\n",
       "      <td>naval</td>\n",
       "      <td>466</td>\n",
       "      <td>61</td>\n",
       "      <td>@orangebook_ This was a good tweet.</td>\n",
       "      <td>1</td>\n",
       "    </tr>\n",
       "    <tr>\n",
       "      <th>4</th>\n",
       "      <td>Naval</td>\n",
       "      <td>2019-08-06 07:33:20</td>\n",
       "      <td>naval</td>\n",
       "      <td>3971</td>\n",
       "      <td>906</td>\n",
       "      <td>Social media lowers the cost of raising &amp;amp; ...</td>\n",
       "      <td>-1</td>\n",
       "    </tr>\n",
       "  </tbody>\n",
       "</table>\n",
       "</div>"
      ],
      "text/plain": [
       "  author_name           created_at handle  likes  retweets  \\\n",
       "0       Naval  2019-08-07 22:36:56  naval   7566      1498   \n",
       "1       Naval  2019-08-07 05:00:38  naval  21886      5984   \n",
       "2       Naval  2019-08-07 04:52:33  naval   6462      1266   \n",
       "3       Naval  2019-08-06 08:35:26  naval    466        61   \n",
       "4       Naval  2019-08-06 07:33:20  naval   3971       906   \n",
       "\n",
       "                                       tweet_content  sentiment_score  \n",
       "0  Unresolved thoughts, prematurely pushed out of...               -2  \n",
       "1  The modern mind is overstimulated and the mode...                2  \n",
       "2  The Lindy Effect for startups:\\n\\nThe longer y...                0  \n",
       "3               @orangebook_ This was a good tweet.                 1  \n",
       "4  Social media lowers the cost of raising &amp; ...               -1  "
      ]
     },
     "execution_count": 155,
     "metadata": {},
     "output_type": "execute_result"
    }
   ],
   "source": [
    "df.head()"
   ]
  },
  {
   "cell_type": "code",
   "execution_count": null,
   "metadata": {},
   "outputs": [],
   "source": []
  }
 ],
 "metadata": {
  "kernelspec": {
   "display_name": "Python 3",
   "language": "python",
   "name": "python3"
  },
  "language_info": {
   "codemirror_mode": {
    "name": "ipython",
    "version": 3
   },
   "file_extension": ".py",
   "mimetype": "text/x-python",
   "name": "python",
   "nbconvert_exporter": "python",
   "pygments_lexer": "ipython3",
   "version": "3.7.4"
  }
 },
 "nbformat": 4,
 "nbformat_minor": 4
}
