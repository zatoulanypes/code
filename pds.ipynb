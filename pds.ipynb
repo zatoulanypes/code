{
 "cells": [
  {
   "cell_type": "code",
   "execution_count": 45,
   "metadata": {},
   "outputs": [],
   "source": [
    "import pandas as pd"
   ]
  },
  {
   "cell_type": "code",
   "execution_count": 46,
   "metadata": {},
   "outputs": [],
   "source": [
    "with open('tweets.csv', 'r') as f:\n",
    "    df = pd.read_csv(f)"
   ]
  },
  {
   "cell_type": "code",
   "execution_count": 47,
   "metadata": {},
   "outputs": [],
   "source": [
    "df = df.dropna()"
   ]
  },
  {
   "cell_type": "code",
   "execution_count": 48,
   "metadata": {},
   "outputs": [],
   "source": [
    "# Задание 1"
   ]
  },
  {
   "cell_type": "code",
   "execution_count": 49,
   "metadata": {},
   "outputs": [
    {
     "data": {
      "text/html": [
       "<div>\n",
       "<style scoped>\n",
       "    .dataframe tbody tr th:only-of-type {\n",
       "        vertical-align: middle;\n",
       "    }\n",
       "\n",
       "    .dataframe tbody tr th {\n",
       "        vertical-align: top;\n",
       "    }\n",
       "\n",
       "    .dataframe thead th {\n",
       "        text-align: right;\n",
       "    }\n",
       "</style>\n",
       "<table border=\"1\" class=\"dataframe\">\n",
       "  <thead>\n",
       "    <tr style=\"text-align: right;\">\n",
       "      <th></th>\n",
       "      <th>tweet_content</th>\n",
       "    </tr>\n",
       "    <tr>\n",
       "      <th>author_name</th>\n",
       "      <th></th>\n",
       "    </tr>\n",
       "  </thead>\n",
       "  <tbody>\n",
       "    <tr>\n",
       "      <th>'(Robert Smith)</th>\n",
       "      <td>A lecture on the spirit of the computer, recen...</td>\n",
       "    </tr>\n",
       "    <tr>\n",
       "      <th>(((E. Glen Weyl)))</th>\n",
       "      <td>Couldn't be more excited to put out probably m...</td>\n",
       "    </tr>\n",
       "    <tr>\n",
       "      <th>(((Matthew Lewis)))</th>\n",
       "      <td>\"This could be huge.\"\\n\\nFolks, this *is* huge...</td>\n",
       "    </tr>\n",
       "    <tr>\n",
       "      <th>(◔_◔) ¯\\_(ツ)_/¯</th>\n",
       "      <td>@EdLatimore The problem is twofold:\\n\\n1. Suga...</td>\n",
       "    </tr>\n",
       "    <tr>\n",
       "      <th>1jack 🌱</th>\n",
       "      <td>Institutional money is going to move into this...</td>\n",
       "    </tr>\n",
       "    <tr>\n",
       "      <th>...</th>\n",
       "      <td>...</td>\n",
       "    </tr>\n",
       "    <tr>\n",
       "      <th>🔥 #Author Abraham Lopez</th>\n",
       "      <td>@EdLatimore Misery doesn’t just love company, ...</td>\n",
       "    </tr>\n",
       "    <tr>\n",
       "      <th>🔭🌃Jana Grcevich 📡🚀</th>\n",
       "      <td>Hey #ancientegypt twitter: I would love to kno...</td>\n",
       "    </tr>\n",
       "    <tr>\n",
       "      <th>🔱Master of Ecstasy🔱</th>\n",
       "      <td>I HAVE A NEW FAVORITE WORD:\\n\\nAPOTHEOSIS:\\n\\n...</td>\n",
       "    </tr>\n",
       "    <tr>\n",
       "      <th>🤙🏽 Bobby D 🤟🏽</th>\n",
       "      <td>Ben Roethlisberger and Mike Tomlin watching th...</td>\n",
       "    </tr>\n",
       "    <tr>\n",
       "      <th>🦉 Wisdomination 🦉</th>\n",
       "      <td>@naval American university is a peculiar mixtu...</td>\n",
       "    </tr>\n",
       "  </tbody>\n",
       "</table>\n",
       "<p>2170 rows × 1 columns</p>\n",
       "</div>"
      ],
      "text/plain": [
       "                                                             tweet_content\n",
       "author_name                                                               \n",
       "'(Robert Smith)          A lecture on the spirit of the computer, recen...\n",
       "(((E. Glen Weyl)))       Couldn't be more excited to put out probably m...\n",
       "(((Matthew Lewis)))      \"This could be huge.\"\\n\\nFolks, this *is* huge...\n",
       "(◔_◔) ¯\\_(ツ)_/¯          @EdLatimore The problem is twofold:\\n\\n1. Suga...\n",
       "1jack 🌱                  Institutional money is going to move into this...\n",
       "...                                                                    ...\n",
       "🔥 #Author Abraham Lopez  @EdLatimore Misery doesn’t just love company, ...\n",
       "🔭🌃Jana Grcevich 📡🚀       Hey #ancientegypt twitter: I would love to kno...\n",
       "🔱Master of Ecstasy🔱      I HAVE A NEW FAVORITE WORD:\\n\\nAPOTHEOSIS:\\n\\n...\n",
       "🤙🏽 Bobby D 🤟🏽            Ben Roethlisberger and Mike Tomlin watching th...\n",
       "🦉 Wisdomination 🦉        @naval American university is a peculiar mixtu...\n",
       "\n",
       "[2170 rows x 1 columns]"
      ]
     },
     "execution_count": 49,
     "metadata": {},
     "output_type": "execute_result"
    }
   ],
   "source": [
    "df[df['author_name'].apply(lambda x: len(x.split())) > 1] \\\n",
    "                    .groupby('author_name') \\\n",
    "                    .agg({'tweet_content': lambda x: min(x, key=len)})"
   ]
  },
  {
   "cell_type": "code",
   "execution_count": 50,
   "metadata": {},
   "outputs": [],
   "source": [
    "# Задание 2"
   ]
  },
  {
   "cell_type": "code",
   "execution_count": 51,
   "metadata": {},
   "outputs": [],
   "source": [
    "import emoji"
   ]
  },
  {
   "cell_type": "code",
   "execution_count": 52,
   "metadata": {},
   "outputs": [],
   "source": [
    "emoji_list = df['tweet_content'].apply(emoji.emoji_lis).sum()"
   ]
  },
  {
   "cell_type": "code",
   "execution_count": 53,
   "metadata": {},
   "outputs": [
    {
     "data": {
      "text/plain": [
       "✅    117\n",
       "😂    101\n",
       "👇    101\n",
       "🔥     52\n",
       "🙏     41\n",
       "🏻     41\n",
       "🏽     38\n",
       "👏     34\n",
       "❤     32\n",
       "♂     30\n",
       "🚨     30\n",
       "🇸     30\n",
       "🇺     29\n",
       "🏼     26\n",
       "👨     20\n",
       "⚫     19\n",
       "👍     18\n",
       "👩     18\n",
       "💯     17\n",
       "🤔     17\n",
       "🏾     17\n",
       "🆕     16\n",
       "🙌     16\n",
       "💪     15\n",
       "♀     15\n",
       "🚀     15\n",
       "👉     14\n",
       "🙄     13\n",
       "👦     13\n",
       "⤵     13\n",
       "Name: emoji, dtype: int64"
      ]
     },
     "execution_count": 53,
     "metadata": {},
     "output_type": "execute_result"
    }
   ],
   "source": [
    "emoji_df = pd.DataFrame(emoji_list)\n",
    "emoji_df['emoji'].value_counts().head(30)"
   ]
  },
  {
   "cell_type": "code",
   "execution_count": 54,
   "metadata": {},
   "outputs": [],
   "source": [
    "# Задание 3"
   ]
  },
  {
   "cell_type": "code",
   "execution_count": 55,
   "metadata": {},
   "outputs": [],
   "source": [
    "import nltk\n",
    "from nltk.stem import WordNetLemmatizer\n",
    "from collections import Counter"
   ]
  },
  {
   "cell_type": "code",
   "execution_count": 56,
   "metadata": {},
   "outputs": [],
   "source": [
    "with open('positive-words.txt', 'r', encoding='latin-1') as pos, \\\n",
    "     open('negative-words.txt', 'r', encoding='latin-1') as neg:\n",
    "    positive = set(pos.read().splitlines()[35:])\n",
    "    negative = set(neg.read().splitlines()[35:])\n",
    "\n",
    "lemmatizer = WordNetLemmatizer()"
   ]
  },
  {
   "cell_type": "code",
   "execution_count": 57,
   "metadata": {},
   "outputs": [],
   "source": [
    "def count_sentiment(tweet, positive=positive, negative=negative, lemmatizer=lemmatizer):\n",
    "    \n",
    "    word_list = nltk.word_tokenize(tweet)\n",
    "    score = 0\n",
    "    \n",
    "    for word in word_list:\n",
    "        word = lemmatizer.lemmatize(word)\n",
    "        if word in positive:\n",
    "            score += 1\n",
    "        elif word in negative:\n",
    "            score -= 1\n",
    "    \n",
    "    return score"
   ]
  },
  {
   "cell_type": "code",
   "execution_count": 58,
   "metadata": {},
   "outputs": [],
   "source": [
    "df['sentiment_score'] = df['tweet_content'].apply(count_sentiment)"
   ]
  },
  {
   "cell_type": "code",
   "execution_count": 78,
   "metadata": {},
   "outputs": [
    {
     "data": {
      "text/html": [
       "<div>\n",
       "<style scoped>\n",
       "    .dataframe tbody tr th:only-of-type {\n",
       "        vertical-align: middle;\n",
       "    }\n",
       "\n",
       "    .dataframe tbody tr th {\n",
       "        vertical-align: top;\n",
       "    }\n",
       "\n",
       "    .dataframe thead th {\n",
       "        text-align: right;\n",
       "    }\n",
       "</style>\n",
       "<table border=\"1\" class=\"dataframe\">\n",
       "  <thead>\n",
       "    <tr style=\"text-align: right;\">\n",
       "      <th></th>\n",
       "      <th>tweet_content</th>\n",
       "      <th>sentiment_score</th>\n",
       "    </tr>\n",
       "  </thead>\n",
       "  <tbody>\n",
       "    <tr>\n",
       "      <th>10518</th>\n",
       "      <td>Truth lies in a bit of this and a bit of that....</td>\n",
       "      <td>12</td>\n",
       "    </tr>\n",
       "    <tr>\n",
       "      <th>519</th>\n",
       "      <td>Doctors won’t make you healthy.\\n\\nNutritionis...</td>\n",
       "      <td>10</td>\n",
       "    </tr>\n",
       "    <tr>\n",
       "      <th>29478</th>\n",
       "      <td>Men, DO YOUR DUTY each day...\\n\\n- maximum eff...</td>\n",
       "      <td>10</td>\n",
       "    </tr>\n",
       "    <tr>\n",
       "      <th>24374</th>\n",
       "      <td>Being kind to others is the most effective way...</td>\n",
       "      <td>9</td>\n",
       "    </tr>\n",
       "    <tr>\n",
       "      <th>2539</th>\n",
       "      <td>\"If you have one good move that gains a clear ...</td>\n",
       "      <td>9</td>\n",
       "    </tr>\n",
       "    <tr>\n",
       "      <th>...</th>\n",
       "      <td>...</td>\n",
       "      <td>...</td>\n",
       "    </tr>\n",
       "    <tr>\n",
       "      <th>12959</th>\n",
       "      <td>Whether is physical or mental performances, me...</td>\n",
       "      <td>6</td>\n",
       "    </tr>\n",
       "    <tr>\n",
       "      <th>12825</th>\n",
       "      <td>Financial freedom is not a goal.\\nFinancial fr...</td>\n",
       "      <td>6</td>\n",
       "    </tr>\n",
       "    <tr>\n",
       "      <th>12780</th>\n",
       "      <td>You can’t love anyone as long as you haven’t b...</td>\n",
       "      <td>6</td>\n",
       "    </tr>\n",
       "    <tr>\n",
       "      <th>12732</th>\n",
       "      <td>A simple indicator to ascertain that I’m not i...</td>\n",
       "      <td>6</td>\n",
       "    </tr>\n",
       "    <tr>\n",
       "      <th>30826</th>\n",
       "      <td>Senses are helping tools for intuition.\\n\\nHea...</td>\n",
       "      <td>6</td>\n",
       "    </tr>\n",
       "  </tbody>\n",
       "</table>\n",
       "<p>154 rows × 2 columns</p>\n",
       "</div>"
      ],
      "text/plain": [
       "                                           tweet_content  sentiment_score\n",
       "10518  Truth lies in a bit of this and a bit of that....               12\n",
       "519    Doctors won’t make you healthy.\\n\\nNutritionis...               10\n",
       "29478  Men, DO YOUR DUTY each day...\\n\\n- maximum eff...               10\n",
       "24374  Being kind to others is the most effective way...                9\n",
       "2539   \"If you have one good move that gains a clear ...                9\n",
       "...                                                  ...              ...\n",
       "12959  Whether is physical or mental performances, me...                6\n",
       "12825  Financial freedom is not a goal.\\nFinancial fr...                6\n",
       "12780  You can’t love anyone as long as you haven’t b...                6\n",
       "12732  A simple indicator to ascertain that I’m not i...                6\n",
       "30826  Senses are helping tools for intuition.\\n\\nHea...                6\n",
       "\n",
       "[154 rows x 2 columns]"
      ]
     },
     "execution_count": 78,
     "metadata": {},
     "output_type": "execute_result"
    }
   ],
   "source": [
    "top = df[df['sentiment_score'] > 5][['tweet_content', 'sentiment_score']]\n",
    "top.sort_values(by='sentiment_score', ascending=False)"
   ]
  },
  {
   "cell_type": "code",
   "execution_count": 79,
   "metadata": {},
   "outputs": [
    {
     "data": {
      "text/html": [
       "<div>\n",
       "<style scoped>\n",
       "    .dataframe tbody tr th:only-of-type {\n",
       "        vertical-align: middle;\n",
       "    }\n",
       "\n",
       "    .dataframe tbody tr th {\n",
       "        vertical-align: top;\n",
       "    }\n",
       "\n",
       "    .dataframe thead th {\n",
       "        text-align: right;\n",
       "    }\n",
       "</style>\n",
       "<table border=\"1\" class=\"dataframe\">\n",
       "  <thead>\n",
       "    <tr style=\"text-align: right;\">\n",
       "      <th></th>\n",
       "      <th>tweet_content</th>\n",
       "      <th>sentiment_score</th>\n",
       "    </tr>\n",
       "  </thead>\n",
       "  <tbody>\n",
       "    <tr>\n",
       "      <th>18682</th>\n",
       "      <td>Being a founder is hard. Being an early employ...</td>\n",
       "      <td>-12</td>\n",
       "    </tr>\n",
       "    <tr>\n",
       "      <th>3626</th>\n",
       "      <td>When a naive investor who saw no risk suddenly...</td>\n",
       "      <td>-11</td>\n",
       "    </tr>\n",
       "    <tr>\n",
       "      <th>3365</th>\n",
       "      <td>When a naive investor who saw no risk suddenly...</td>\n",
       "      <td>-11</td>\n",
       "    </tr>\n",
       "    <tr>\n",
       "      <th>3243</th>\n",
       "      <td>When a naive investor who saw no risk suddenly...</td>\n",
       "      <td>-11</td>\n",
       "    </tr>\n",
       "    <tr>\n",
       "      <th>24316</th>\n",
       "      <td>We unconsciously flee from our problems, seeki...</td>\n",
       "      <td>-10</td>\n",
       "    </tr>\n",
       "    <tr>\n",
       "      <th>...</th>\n",
       "      <td>...</td>\n",
       "      <td>...</td>\n",
       "    </tr>\n",
       "    <tr>\n",
       "      <th>13074</th>\n",
       "      <td>As long as you are afraid of being alone,\\n\\na...</td>\n",
       "      <td>-6</td>\n",
       "    </tr>\n",
       "    <tr>\n",
       "      <th>12712</th>\n",
       "      <td>A common mistake of parents is to hide unprais...</td>\n",
       "      <td>-6</td>\n",
       "    </tr>\n",
       "    <tr>\n",
       "      <th>12697</th>\n",
       "      <td>Youth is the greatest asset you have in your 2...</td>\n",
       "      <td>-6</td>\n",
       "    </tr>\n",
       "    <tr>\n",
       "      <th>14925</th>\n",
       "      <td>\"The vision of the left, full of envy and rese...</td>\n",
       "      <td>-6</td>\n",
       "    </tr>\n",
       "    <tr>\n",
       "      <th>31086</th>\n",
       "      <td>People who laugh at others weaknesses have no ...</td>\n",
       "      <td>-6</td>\n",
       "    </tr>\n",
       "  </tbody>\n",
       "</table>\n",
       "<p>149 rows × 2 columns</p>\n",
       "</div>"
      ],
      "text/plain": [
       "                                           tweet_content  sentiment_score\n",
       "18682  Being a founder is hard. Being an early employ...              -12\n",
       "3626   When a naive investor who saw no risk suddenly...              -11\n",
       "3365   When a naive investor who saw no risk suddenly...              -11\n",
       "3243   When a naive investor who saw no risk suddenly...              -11\n",
       "24316  We unconsciously flee from our problems, seeki...              -10\n",
       "...                                                  ...              ...\n",
       "13074  As long as you are afraid of being alone,\\n\\na...               -6\n",
       "12712  A common mistake of parents is to hide unprais...               -6\n",
       "12697  Youth is the greatest asset you have in your 2...               -6\n",
       "14925  \"The vision of the left, full of envy and rese...               -6\n",
       "31086  People who laugh at others weaknesses have no ...               -6\n",
       "\n",
       "[149 rows x 2 columns]"
      ]
     },
     "execution_count": 79,
     "metadata": {},
     "output_type": "execute_result"
    }
   ],
   "source": [
    "bottom = df[df['sentiment_score'] < -5][['tweet_content', 'sentiment_score']]\n",
    "bottom.sort_values(by='sentiment_score', ascending=True)"
   ]
  }
 ],
 "metadata": {
  "kernelspec": {
   "display_name": "Python 3",
   "language": "python",
   "name": "python3"
  },
  "language_info": {
   "codemirror_mode": {
    "name": "ipython",
    "version": 3
   },
   "file_extension": ".py",
   "mimetype": "text/x-python",
   "name": "python",
   "nbconvert_exporter": "python",
   "pygments_lexer": "ipython3",
   "version": "3.7.4"
  }
 },
 "nbformat": 4,
 "nbformat_minor": 4
}
