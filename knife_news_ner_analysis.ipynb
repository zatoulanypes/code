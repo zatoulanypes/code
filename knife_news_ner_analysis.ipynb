{
 "cells": [
  {
   "cell_type": "code",
   "execution_count": 1,
   "metadata": {},
   "outputs": [],
   "source": [
    "import json\n",
    "from pprint import pprint\n",
    "from collections import Counter, defaultdict"
   ]
  },
  {
   "cell_type": "code",
   "execution_count": 2,
   "metadata": {},
   "outputs": [],
   "source": [
    "from natasha import (\n",
    "    Segmenter,\n",
    "    MorphVocab,\n",
    "    \n",
    "    NewsEmbedding,\n",
    "    NewsMorphTagger,\n",
    "    NewsSyntaxParser,\n",
    "    NewsNERTagger,\n",
    "    \n",
    "    Doc\n",
    ")"
   ]
  },
  {
   "cell_type": "code",
   "execution_count": 3,
   "metadata": {},
   "outputs": [],
   "source": [
    "segmenter = Segmenter()\n",
    "morph_vocab = MorphVocab()\n",
    "\n",
    "emb = NewsEmbedding()\n",
    "morph_tagger = NewsMorphTagger(emb)\n",
    "syntax_parser = NewsSyntaxParser(emb)\n",
    "ner_tagger = NewsNERTagger(emb)"
   ]
  },
  {
   "cell_type": "code",
   "execution_count": 4,
   "metadata": {},
   "outputs": [],
   "source": [
    "with open('knife_corpus.json', 'r') as file:\n",
    "    corpus = json.load(file)"
   ]
  },
  {
   "cell_type": "code",
   "execution_count": 5,
   "metadata": {},
   "outputs": [],
   "source": [
    "tag_stat = defaultdict(Counter)"
   ]
  },
  {
   "cell_type": "code",
   "execution_count": 6,
   "metadata": {},
   "outputs": [],
   "source": [
    "for entry in corpus:\n",
    "    text = entry['Text']\n",
    "    tags = entry['Tags']\n",
    "    \n",
    "    doc = Doc(text)\n",
    "    doc.segment(segmenter)\n",
    "    doc.tag_morph(morph_tagger)\n",
    "    doc.parse_syntax(syntax_parser)\n",
    "    doc.tag_ner(ner_tagger)\n",
    "\n",
    "    spans = []\n",
    "    for span in doc.spans:\n",
    "        span.normalize(morph_vocab)\n",
    "        spans.append(span.normal)\n",
    "    \n",
    "    for tag in tags:\n",
    "        tag_stat[tag].update(spans)"
   ]
  },
  {
   "cell_type": "code",
   "execution_count": 7,
   "metadata": {},
   "outputs": [],
   "source": [
    "# В издании \"Нож\" нет разделения новостей по категориям, но каждой новости присваиются теги (один или более). Теги\n",
    "# более кокретны, чем категории, но их, соотвественно, и больше. Вот список тегов, встречающихся в корпусе:"
   ]
  },
  {
   "cell_type": "code",
   "execution_count": 8,
   "metadata": {},
   "outputs": [
    {
     "name": "stdout",
     "output_type": "stream",
     "text": [
      "['история', 'мир', 'смерть', 'дети', 'искусство', 'сайт', 'журналистика', 'будущее', 'города', 'животные', 'великобритания', 'еда', 'люди', 'находка', 'сша', 'наука', 'экология', 'китай', 'деньги', 'работа', 'физика', 'исследование', 'религия', 'книги', 'литература', 'соцсети', 'интернет', 'россия', 'здоровье', 'технологии', 'архитектура', 'партнерский материал', 'медицина', 'языки', 'нейросети', 'бесплатно и полезно', 'события', 'москва', 'музыка', 'секс', 'общество', 'благотворительность', 'школьники', 'видео', 'наркотики', 'музей', 'женщины', 'мужчины', 'законы', 'кино', 'ЛГБТ', 'космос', 'эксперимент', 'тесты', 'политика', 'нож', 'приложение', 'порно', 'образование', 'театр', 'культура', 'игры', 'рейтинг', 'криминал', 'изобретения', 'химия', 'мозг', 'фотография', 'сон', 'добро', 'бизнес', 'премьера', 'отношения', 'психология', 'путешествия', 'феминизм', 'статистика', 'сериалы', 'гендер', 'мода', 'дизайн', 'общение', 'истории', 'депрессия', 'экономика', 'математика', 'япония', 'философия', 'алкоголь', 'спорт', 'СССР', 'поколения', 'привычки', 'любовь', 'биология', 'реклама', 'безопасность', 'рэп', 'мемы', 'покупки', 'насилие', 'красота', 'мнения', 'детство', 'возраст', 'коты', 'цензура', 'саморазвитие', 'инфографика', 'интервью', 'криптовалюты', 'поведение', 'гарри поттер', 'фантастика']\n"
     ]
    }
   ],
   "source": [
    "print(list(tag_stat.keys()))"
   ]
  },
  {
   "cell_type": "code",
   "execution_count": 9,
   "metadata": {},
   "outputs": [],
   "source": [
    "# А вот наиболее частотные именованные сущности для некоторых из тегов:"
   ]
  },
  {
   "cell_type": "code",
   "execution_count": 10,
   "metadata": {},
   "outputs": [
    {
     "name": "stdout",
     "output_type": "stream",
     "text": [
      "[('Россия', 209),\n",
      " ('Москва', 179),\n",
      " ('Петербург', 62),\n",
      " ('ВКонтакте', 51),\n",
      " ('РФ', 43),\n",
      " ('Санкт-Петербург', 41),\n",
      " ('ТАСС', 30),\n",
      " ('США', 28),\n",
      " ('МГУ', 27),\n",
      " ('Нож', 27)]\n"
     ]
    }
   ],
   "source": [
    "pprint(tag_stat['россия'].most_common(10))"
   ]
  },
  {
   "cell_type": "code",
   "execution_count": 11,
   "metadata": {},
   "outputs": [
    {
     "name": "stdout",
     "output_type": "stream",
     "text": [
      "[('Пушкин', 6),\n",
      " ('США', 5),\n",
      " ('Паттон', 4),\n",
      " ('Google', 4),\n",
      " ('Россия', 3),\n",
      " ('Китай', 3),\n",
      " ('Localingual', 3),\n",
      " ('Дэвид', 3),\n",
      " ('Collins Dictionary', 3),\n",
      " ('Япония', 2),\n",
      " ('Украина', 2),\n",
      " ('Яндекс', 2),\n",
      " ('Дина Рубина', 2),\n",
      " ('The Sims', 2),\n",
      " ('Ассоциация американских диалектов', 2),\n",
      " ('The Guardian', 2),\n",
      " ('Merriam-Webster', 2),\n",
      " ('Оксфордского словарь', 2),\n",
      " ('Кембриджский словарь', 2),\n",
      " ('Издательский дом «ПостНаука', 1)]\n"
     ]
    }
   ],
   "source": [
    "pprint(tag_stat['языки'].most_common(20))"
   ]
  },
  {
   "cell_type": "code",
   "execution_count": null,
   "metadata": {},
   "outputs": [],
   "source": []
  }
 ],
 "metadata": {
  "kernelspec": {
   "display_name": "Python 3",
   "language": "python",
   "name": "python3"
  },
  "language_info": {
   "codemirror_mode": {
    "name": "ipython",
    "version": 3
   },
   "file_extension": ".py",
   "mimetype": "text/x-python",
   "name": "python",
   "nbconvert_exporter": "python",
   "pygments_lexer": "ipython3",
   "version": "3.7.4"
  }
 },
 "nbformat": 4,
 "nbformat_minor": 4
}
