{
 "cells": [
  {
   "cell_type": "code",
   "execution_count": 22,
   "metadata": {},
   "outputs": [],
   "source": [
    "import json\n",
    "from pprint import pprint\n",
    "from collections import Counter, defaultdict"
   ]
  },
  {
   "cell_type": "code",
   "execution_count": 5,
   "metadata": {},
   "outputs": [],
   "source": [
    "from natasha import (\n",
    "    Segmenter,\n",
    "    MorphVocab,\n",
    "    \n",
    "    NewsEmbedding,\n",
    "    NewsMorphTagger,\n",
    "    NewsSyntaxParser,\n",
    "    NewsNERTagger,\n",
    "    \n",
    "    Doc\n",
    ")"
   ]
  },
  {
   "cell_type": "code",
   "execution_count": 10,
   "metadata": {},
   "outputs": [],
   "source": [
    "segmenter = Segmenter()\n",
    "morph_vocab = MorphVocab()\n",
    "\n",
    "emb = NewsEmbedding()\n",
    "morph_tagger = NewsMorphTagger(emb)\n",
    "syntax_parser = NewsSyntaxParser(emb)\n",
    "ner_tagger = NewsNERTagger(emb)"
   ]
  },
  {
   "cell_type": "code",
   "execution_count": 11,
   "metadata": {},
   "outputs": [],
   "source": [
    "with open('knife_corpus.json', 'r') as file:\n",
    "    corpus = json.load(file)"
   ]
  },
  {
   "cell_type": "code",
   "execution_count": 12,
   "metadata": {},
   "outputs": [],
   "source": [
    "tag_stat = defaultdict(Counter)"
   ]
  },
  {
   "cell_type": "code",
   "execution_count": 23,
   "metadata": {},
   "outputs": [],
   "source": [
    "for entry in corpus:\n",
    "    text = entry['Text']\n",
    "    tags = entry['Tags']\n",
    "    \n",
    "    doc = Doc(text)\n",
    "    doc.segment(segmenter)\n",
    "    doc.tag_morph(morph_tagger)\n",
    "    doc.parse_syntax(syntax_parser)\n",
    "    doc.tag_ner(ner_tagger)\n",
    "\n",
    "    for span in doc.spans:\n",
    "        span.normalize(morph_vocab)\n",
    "\n",
    "    spans = [span.normal for span in doc.spans]\n",
    "    \n",
    "    for tag in tags:\n",
    "        tag_stat[tag].update(spans)"
   ]
  },
  {
   "cell_type": "code",
   "execution_count": 28,
   "metadata": {},
   "outputs": [],
   "source": [
    "# В издании \"Нож\" нет разделения новостей по категориям, но каждой новости присваиются теги (один или более). Теги\n",
    "# более кокретны, чем категории, но их, соотвественно, и больше. Вот список тегов, встречающихся в корпусе:"
   ]
  },
  {
   "cell_type": "code",
   "execution_count": 24,
   "metadata": {},
   "outputs": [
    {
     "name": "stdout",
     "output_type": "stream",
     "text": [
      "['технологии', 'наркотики', 'здоровье', 'россия', 'китай', 'находка', 'искусство', 'история', 'люди', 'животные', 'мир', 'книги', 'литература', 'секс', 'женщины', 'мужчины', 'законы', 'общество', 'кино', 'ЛГБТ', 'события', 'космос', 'исследование', 'эксперимент', 'тесты', 'еда', 'экология', 'медицина', 'наука', 'благотворительность', 'музыка', 'политика', 'сша', 'бесплатно и полезно', 'смерть', 'нож', 'приложение', 'порно', 'соцсети', 'нейросети', 'образование', 'театр', 'культура', 'игры', 'видео', 'дети', 'сайт', 'деньги', 'рейтинг', 'криминал', 'изобретения', 'химия', 'мозг', 'фотография', 'великобритания', 'сон', 'журналистика', 'москва', 'добро', 'интернет', 'бизнес', 'премьера', 'школьники', 'психология', 'путешествия', 'языки', 'физика', 'статистика', 'музей', 'религия', 'сериалы', 'работа', 'гендер', 'мода', 'дизайн', 'города', 'общение', 'отношения', 'истории', 'депрессия', 'экономика', 'математика', 'япония', 'философия', 'алкоголь', 'спорт', 'поколения', 'архитектура', 'привычки', 'любовь', 'биология', 'реклама', 'будущее', 'безопасность', 'рэп', 'феминизм', 'мемы', 'покупки', 'насилие', 'красота', 'СССР', 'мнения', 'детство', 'возраст', 'коты', 'цензура', 'саморазвитие', 'инфографика', 'интервью', 'криптовалюты', 'поведение', 'гарри поттер', 'фантастика']\n"
     ]
    }
   ],
   "source": [
    "print(list(tag_stat.keys()))"
   ]
  },
  {
   "cell_type": "code",
   "execution_count": null,
   "metadata": {},
   "outputs": [],
   "source": [
    "# А вот наиболее частотные именованные сущности для некоторых из тегов:"
   ]
  },
  {
   "cell_type": "code",
   "execution_count": 25,
   "metadata": {},
   "outputs": [
    {
     "name": "stdout",
     "output_type": "stream",
     "text": [
      "[('Россия', 384),\n",
      " ('Москва', 332),\n",
      " ('Петербург', 122),\n",
      " ('ВКонтакте', 100),\n",
      " ('РФ', 78),\n",
      " ('Санкт-Петербург', 76),\n",
      " ('ТАСС', 58),\n",
      " ('США', 54),\n",
      " ('МГУ', 52),\n",
      " ('Ночлежка', 48)]\n"
     ]
    }
   ],
   "source": [
    "pprint(tag_stat['россия'].most_common(10))"
   ]
  },
  {
   "cell_type": "code",
   "execution_count": 27,
   "metadata": {},
   "outputs": [
    {
     "name": "stdout",
     "output_type": "stream",
     "text": [
      "[('США', 10),\n",
      " ('Пушкин', 10),\n",
      " ('Паттон', 8),\n",
      " ('Google', 8),\n",
      " ('Китай', 6),\n",
      " ('Localingual', 6),\n",
      " ('Дэвид', 6),\n",
      " ('Collins Dictionary', 6),\n",
      " ('Япония', 4),\n",
      " ('Яндекс', 4),\n",
      " ('Дина Рубина', 4),\n",
      " ('The Sims', 4),\n",
      " ('Ассоциация американских диалектов', 4),\n",
      " ('The Guardian', 4),\n",
      " ('Merriam-Webster', 4),\n",
      " ('Оксфордского словарь', 4),\n",
      " ('Кембриджский словарь', 4),\n",
      " ('Дитмар Эльяшевич Розенталь', 2),\n",
      " ('Розенталь', 2),\n",
      " ('Мел', 2)]\n"
     ]
    }
   ],
   "source": [
    "pprint(tag_stat['языки'].most_common(20))"
   ]
  }
 ],
 "metadata": {
  "kernelspec": {
   "display_name": "Python 3",
   "language": "python",
   "name": "python3"
  },
  "language_info": {
   "codemirror_mode": {
    "name": "ipython",
    "version": 3
   },
   "file_extension": ".py",
   "mimetype": "text/x-python",
   "name": "python",
   "nbconvert_exporter": "python",
   "pygments_lexer": "ipython3",
   "version": "3.7.4"
  }
 },
 "nbformat": 4,
 "nbformat_minor": 4
}
